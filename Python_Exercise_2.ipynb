{
  "nbformat": 4,
  "nbformat_minor": 0,
  "metadata": {
    "colab": {
      "name": "Python Exercise 2.ipynb",
      "provenance": [],
      "authorship_tag": "ABX9TyNF0u8pS9/Z9+wZQqu+99rh",
      "include_colab_link": true
    },
    "kernelspec": {
      "name": "python3",
      "display_name": "Python 3"
    },
    "language_info": {
      "name": "python"
    }
  },
  "cells": [
    {
      "cell_type": "markdown",
      "metadata": {
        "id": "view-in-github",
        "colab_type": "text"
      },
      "source": [
        "<a href=\"https://colab.research.google.com/github/JustinCamay-prog/Numerical-Methods/blob/Numerical-Methods/Python_Exercise_2.ipynb\" target=\"_parent\"><img src=\"https://colab.research.google.com/assets/colab-badge.svg\" alt=\"Open In Colab\"/></a>"
      ]
    },
    {
      "cell_type": "markdown",
      "metadata": {
        "id": "_GiiFxJojp9j"
      },
      "source": [
        "#Matrix and Its Operations\n",
        "#Justin Anjelo Camay\n",
        "#201912644"
      ]
    },
    {
      "cell_type": "markdown",
      "metadata": {
        "id": "HXfhp47TkqeH"
      },
      "source": [
        "#Addition"
      ]
    },
    {
      "cell_type": "code",
      "metadata": {
        "colab": {
          "base_uri": "https://localhost:8080/"
        },
        "id": "tLQk-rmufkLa",
        "outputId": "cc6aee86-bfe3-4565-f345-fab9b65a493e"
      },
      "source": [
        "import numpy as np\n",
        "\n",
        "A = np.array([\n",
        "    [-5,0],\n",
        "    [4,1],\n",
        "])\n",
        "B = np.array([\n",
        "    [6,-3],\n",
        "    [2,3],\n",
        "])\n",
        "A+B"
      ],
      "execution_count": 3,
      "outputs": [
        {
          "output_type": "execute_result",
          "data": {
            "text/plain": [
              "array([[ 1, -3],\n",
              "       [ 6,  4]])"
            ]
          },
          "metadata": {},
          "execution_count": 3
        }
      ]
    },
    {
      "cell_type": "markdown",
      "metadata": {
        "id": "EZxEhI-8k8AX"
      },
      "source": [
        "#Substraction"
      ]
    },
    {
      "cell_type": "code",
      "metadata": {
        "colab": {
          "base_uri": "https://localhost:8080/"
        },
        "id": "XU_4PqsVhITz",
        "outputId": "032786bb-61ad-4c2b-d15d-827e5d490934"
      },
      "source": [
        "import numpy as np\n",
        "B = np.array([[6,  -3],\n",
        "       [ 2,  3]])\n",
        "A = np.array([\n",
        "    [-5,0],\n",
        "    [4,1],\n",
        "]) \n",
        "B-A"
      ],
      "execution_count": 7,
      "outputs": [
        {
          "output_type": "execute_result",
          "data": {
            "text/plain": [
              "array([[11, -3],\n",
              "       [-2,  2]])"
            ]
          },
          "metadata": {},
          "execution_count": 7
        }
      ]
    },
    {
      "cell_type": "code",
      "metadata": {
        "colab": {
          "base_uri": "https://localhost:8080/"
        },
        "id": "venLj87vixhi",
        "outputId": "c31a9a32-cd81-4d88-c6c1-16d67718dc94"
      },
      "source": [
        "import numpy as np\n",
        "A = np.array([\n",
        "    [-5,0],\n",
        "    [4,1],\n",
        "]) \n",
        "B = np.array([[6,  -3],\n",
        "       [ 2,  3]])\n",
        "A-B"
      ],
      "execution_count": 8,
      "outputs": [
        {
          "output_type": "execute_result",
          "data": {
            "text/plain": [
              "array([[-11,   3],\n",
              "       [  2,  -2]])"
            ]
          },
          "metadata": {},
          "execution_count": 8
        }
      ]
    }
  ]
}