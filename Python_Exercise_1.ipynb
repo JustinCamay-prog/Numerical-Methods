{
  "nbformat": 4,
  "nbformat_minor": 0,
  "metadata": {
    "colab": {
      "name": "Python Exercise 1.ipynb",
      "provenance": [],
      "authorship_tag": "ABX9TyObQDMT+Nb7u9zVm1/XaImi",
      "include_colab_link": true
    },
    "kernelspec": {
      "name": "python3",
      "display_name": "Python 3"
    },
    "language_info": {
      "name": "python"
    }
  },
  "cells": [
    {
      "cell_type": "markdown",
      "metadata": {
        "id": "view-in-github",
        "colab_type": "text"
      },
      "source": [
        "<a href=\"https://colab.research.google.com/github/JustinCamay-prog/Numerical-Methods/blob/Numerical-Methods/Python_Exercise_1.ipynb\" target=\"_parent\"><img src=\"https://colab.research.google.com/assets/colab-badge.svg\" alt=\"Open In Colab\"/></a>"
      ]
    },
    {
      "cell_type": "code",
      "metadata": {
        "colab": {
          "base_uri": "https://localhost:8080/"
        },
        "id": "XZ6kl12sbaNm",
        "outputId": "045b06f1-15fe-413d-d36c-849e666f8bd7"
      },
      "source": [
        "def main(name, course, prelims, midterms, finals, grade):\n",
        "    Average = (float(prelims) + float(midterms) + float(finals)) / 3\n",
        "    Averages = round(Average, 2)\n",
        "    # Shown above is how to execute the average of the grades by using float\n",
        "\n",
        "    Happy_Face = ('\\U0001F600')\n",
        "    Laughing_Face = ('\\U0001F606')\n",
        "    Sad_Face = (\"\\U0001F62D\")\n",
        "    # Shown above are the emojis depending on the grades\n",
        "\n",
        "    if Average > 70:\n",
        "        reaction = Happy_Face\n",
        "    elif Average == 70:\n",
        "        reaction = Laughing_Face\n",
        "    else:\n",
        "        reaction = Sad_Face\n",
        "    # Shown above is using if else statement\n",
        "\n",
        "    print((\"Your name: \" + name) + (\"Your course: \" + course) + (\"\\nYour prelim grade: \" + prelims) + (\n",
        "                \"\\nMidterm Grade: \" + midterms) +\n",
        "          (\"\\nYour final grade: \" + finals) + (\"\\nYour final average grade: \" + str(Averages)) + (\"\\nYour reaction: \" + reaction) +\n",
        "          (('\\nHere are your 3rd Year 1st Sem Grade Results!')))\n",
        "\n",
        "\n",
        "main(input(\"Name:\"),\n",
        "     input(\"Course:\"),\n",
        "     input(\"Prelims grade:\"),\n",
        "     input(\"Midterms grade:\"),\n",
        "     input(\"Finals grade:\"),\n",
        "\n",
        "     print('.' * 100))"
      ],
      "execution_count": 3,
      "outputs": [
        {
          "output_type": "stream",
          "text": [
            "Name:Justin Anjelo Camay\n",
            "Course:BS CPE\n",
            "Prelims grade:90\n",
            "Midterms grade:93\n",
            "Finals grade:88\n",
            "....................................................................................................\n",
            "Your name: Justin Anjelo CamayYour course: BS CPE\n",
            "Your prelim grade: 90\n",
            "Midterm Grade: 93\n",
            "Your final grade: 88\n",
            "Your final average grade: 90.33\n",
            "Your reaction: 😀\n",
            "Here are your 3rd Year 1st Sem Grade Results!\n"
          ],
          "name": "stdout"
        }
      ]
    }
  ]
}